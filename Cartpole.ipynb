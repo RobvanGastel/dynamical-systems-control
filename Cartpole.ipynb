{
 "cells": [
  {
   "attachments": {},
   "cell_type": "markdown",
   "id": "b55a76fa",
   "metadata": {},
   "source": [
    "## Cartpole dynamical system\n",
    " \n",
    "The visualization of the phase space, and trajectory of a cartpole system."
   ]
  },
  {
   "cell_type": "code",
   "execution_count": 161,
   "id": "453031c9-82c6-4216-95ed-c8eccd7aec40",
   "metadata": {},
   "outputs": [],
   "source": [
    "%matplotlib inline\n",
    "\n",
    "import scipy\n",
    "import numpy as np\n",
    "from IPython import display\n",
    "import matplotlib.pyplot as plt\n",
    "\n",
    "from cartpole_env import CartPoleEnv"
   ]
  },
  {
   "cell_type": "code",
   "execution_count": 162,
   "id": "e0d05f62-2efb-44d6-bf07-e6e8c0113764",
   "metadata": {},
   "outputs": [
    {
     "data": {
      "text/plain": [
       "(array([[ 0. ,  1. ,  0. ,  0. ],\n",
       "        [ 0. , -0.2,  2. ,  0. ],\n",
       "        [ 0. ,  0. ,  0. ,  1. ],\n",
       "        [ 0. , -0.1,  6. ,  0. ]]),\n",
       " array([[0. ],\n",
       "        [0.2],\n",
       "        [0. ],\n",
       "        [0.1]]))"
      ]
     },
     "execution_count": 162,
     "metadata": {},
     "output_type": "execute_result"
    }
   ],
   "source": [
    "def state_space(m=1, M=5, L=2, g=-10, d=1, s=1):\n",
    "    \"\"\"Calculates the linearized approximation of the cart-pendulum\n",
    "    system dynamics at either the vertical-up position (s=1) or\n",
    "    vertical-down position (s=-1).\n",
    "\n",
    "    Returns two arrays, A, B which are the system and input matrices\n",
    "    in the state-space system of differential equations:\n",
    "\n",
    "        x_dot = Ax + Bu\n",
    "\n",
    "    where x is the state vector, u is the control vector and x_dot\n",
    "    is the time derivative (dx/dt).\n",
    "    \"\"\"\n",
    "    A = np.array([\n",
    "        [       0.,         1.,               0.,       0.],\n",
    "        [       0,        -d/M,           -m*g/M,       0.],\n",
    "        [       0.,         0.,               0.,       1.],\n",
    "        [       0., -s*d/(M*L), -s*(m+M)*g/(M*L),       0.]\n",
    "    ])\n",
    "\n",
    "    B = np.array([\n",
    "        [         0.],\n",
    "        [       1./M],\n",
    "        [         0.],\n",
    "        [ s*1./(M*L)]\n",
    "    ])\n",
    "\n",
    "    return A, B\n",
    "\n",
    "# Generate state space model matrices for linearized system\n",
    "A, B = state_space()\n",
    "\n",
    "A, B"
   ]
  },
  {
   "cell_type": "code",
   "execution_count": 163,
   "id": "5117ccf7-3561-4d17-94ef-2999a754b9db",
   "metadata": {},
   "outputs": [
    {
     "data": {
      "text/plain": [
       "4"
      ]
     },
     "execution_count": 163,
     "metadata": {},
     "output_type": "execute_result"
    }
   ],
   "source": [
    "# Calculate the controllability matrix\n",
    "n_states = A.shape[0]\n",
    "n_inputs = B.shape[1]\n",
    "controllability_matrix = np.hstack([np.linalg.matrix_power(A, i) @ B for i in range(n_states)])\n",
    "\n",
    "# Check the rank of the controllability matrix\n",
    "rank_n = np.linalg.matrix_rank(controllability_matrix)\n",
    "\n",
    "# Full rank means we have a controllable system\n",
    "rank_n"
   ]
  },
  {
   "cell_type": "code",
   "execution_count": 164,
   "id": "22ab6558-bd3a-4e09-ba0d-bb5898c178fd",
   "metadata": {},
   "outputs": [
    {
     "data": {
      "text/plain": [
       "((1, 4), (4, 4), (4, 1), (4, 4))"
      ]
     },
     "execution_count": 164,
     "metadata": {},
     "output_type": "execute_result"
    }
   ],
   "source": [
    "# Essentially handpicking our pole/eigs positions, but LQR does this automatically.\n",
    "# p = np.array([-1, -2, -5, -2.5])\n",
    "# p = np.array([-1.5, -1.2, -1.3, -1.4])\n",
    "# p = np.array([1, 0, 2, -1])\n",
    "p = np.array([-1, -2.5, -2.3, -2.4])\n",
    "\n",
    "# Some intuition, if you have very aggresive eigenvalues input you would need a \n",
    "# big motor to give these large control inputs. \n",
    "\n",
    "poles = scipy.signal.place_poles(A, B, p, method='YT', rtol=0.001, maxiter=30)\n",
    "K = poles.gain_matrix\n",
    "\n",
    "K.shape, A.shape, B.shape, (A - B @ K).shape"
   ]
  },
  {
   "cell_type": "code",
   "execution_count": 165,
   "id": "2426f665-cf47-49bc-9f04-5dd173631681",
   "metadata": {},
   "outputs": [
    {
     "data": {
      "text/plain": [
       "array([[-13.8 , -32.07, 332.3 , 144.14]])"
      ]
     },
     "execution_count": 165,
     "metadata": {},
     "output_type": "execute_result"
    }
   ],
   "source": [
    "# The gain matrix\n",
    "K"
   ]
  },
  {
   "cell_type": "code",
   "execution_count": 166,
   "id": "61c70743-e940-408a-a009-25861caa1913",
   "metadata": {},
   "outputs": [
    {
     "data": {
      "image/png": "[encoded data removed]",
      "text/plain": [
       "<Figure size 640x480 with 1 Axes>"
      ]
     },
     "metadata": {},
     "output_type": "display_data"
    },
    {
     "data": {
      "image/png": "[encoded data removed]",
      "text/plain": [
       "<Figure size 640x480 with 1 Axes>"
      ]
     },
     "metadata": {},
     "output_type": "display_data"
    }
   ],
   "source": [
    "env = CartPoleEnv(initial_state_variance=0.01)\n",
    "env.reset()\n",
    "\n",
    "# Control vector\n",
    "u = np.zeros(1)\n",
    "cum_rew = 0.0\n",
    "\n",
    "def show_state(env, step, cum_rew, u):\n",
    "    plt.figure(3)\n",
    "    plt.clf()\n",
    "    plt.imshow(env.render(mode='rgb_array'))\n",
    "    plt.title(f\"Step: {step}, u: {u[0]:.2f}, cum rew: {cum_rew:.2f}\")\n",
    "    plt.axis('off')\n",
    "\n",
    "    display.clear_output(wait=True)\n",
    "    display.display(plt.gcf())\n",
    "\n",
    "done = False\n",
    "for step in range(100):\n",
    "    # u = -Kx\n",
    "    u[:] = -np.dot(K, env.state - env.goal_state)\n",
    "\n",
    "    # Run simulation one time-step\n",
    "    observation, reward, done, info = env.step(u)\n",
    "\n",
    "    show_state(env, step, cum_rew, u)\n",
    "    cum_rew += reward\n",
    "\n",
    "    if done:\n",
    "        break\n",
    "\n",
    "env.close()"
   ]
  },
  {
   "attachments": {},
   "cell_type": "markdown",
   "id": "b3c91023-0842-4056-853f-ebd981285838",
   "metadata": {},
   "source": [
    "### Linear Quadratic Regulator (LQR)\n",
    "automatically picks the eigenvalues to pick the optimal gain matrix K, balancing how fast you stabalize your state and howmuch energy you spend to do so."
   ]
  },
  {
   "cell_type": "code",
   "execution_count": 168,
   "id": "884683e9-ad60-486e-a0b1-a51d9425a083",
   "metadata": {},
   "outputs": [
    {
     "data": {
      "text/plain": [
       "((4, 1), (4, 4))"
      ]
     },
     "execution_count": 168,
     "metadata": {},
     "output_type": "execute_result"
    }
   ],
   "source": [
    "B.shape, A.shape"
   ]
  },
  {
   "cell_type": "code",
   "execution_count": 169,
   "id": "52361bdf-ae4d-4646-b62c-5b06db69aacb",
   "metadata": {},
   "outputs": [
    {
     "data": {
      "text/plain": [
       "array([[0.0001]])"
      ]
     },
     "execution_count": 169,
     "metadata": {},
     "output_type": "execute_result"
    }
   ],
   "source": [
    "\n",
    "Q = np.eye(A.shape[0])\n",
    "Q[2, 2] = 1\n",
    "Q[3, 3] = 10\n",
    "\n",
    "R = np.eye(B.shape[1]) * 0.0001\n",
    "R"
   ]
  },
  {
   "cell_type": "code",
   "execution_count": 150,
   "id": "8846298a-5e26-4e76-a1b7-8eb940337786",
   "metadata": {},
   "outputs": [
    {
     "data": {
      "text/plain": [
       "(array([[-100.        , -209.20537846, 1727.423981  ,  829.39075598]]),\n",
       " array([-37.53434517+0.j        ,  -1.40621076+0.90740538j,\n",
       "         -1.40621076-0.90740538j,  -0.95123322+0.j        ]),\n",
       " array([[-0.02380413+0.j        , -0.4124278 -0.26613308j,\n",
       "         -0.4124278 +0.26613308j, -0.72017149+0.j        ],\n",
       "        [ 0.89347256+0.j        ,  0.821451  +0.j        ,\n",
       "          0.821451  -0.j        ,  0.68505104+0.j        ],\n",
       "        [-0.01194446+0.j        ,  0.0596212 -0.13646756j,\n",
       "          0.0596212 +0.13646756j,  0.07956271+0.j        ],\n",
       "        [ 0.44832742+0.j        ,  0.03999142+0.24600276j,\n",
       "          0.03999142-0.24600276j, -0.07568269+0.j        ]]))"
      ]
     },
     "execution_count": 150,
     "metadata": {},
     "output_type": "execute_result"
    }
   ],
   "source": [
    "def lqr(A, B, Q, R):\n",
    "    \"\"\"Solve the continuous time LQR equation\n",
    "    dx/dt = Ax + Bu\n",
    "    cost = \\int x^TQx + u^TRu dt\n",
    "    \"\"\"\n",
    "     \n",
    "    # Solve the continuous-time Riccati equation\n",
    "    P = scipy.linalg.solve_continuous_are(A, B, Q, R)\n",
    "\n",
    "    # Calculate the optimal control gain matrix K\n",
    "    K = np.linalg.inv(R) @ B.T @ P\n",
    "\n",
    "    result = np.linalg.eig(A - (B @ K))\n",
    "    eigs = result.eigenvalues\n",
    "    eigvecs = result.eigenvectors\n",
    "    return K, eigs, eigvecs\n",
    "\n",
    "# The gain matrix and eigenvalues\n",
    "K, eigs, eigvecs = lqr(A, B, Q, R)\n",
    "K, eigs, eigvecs"
   ]
  },
  {
   "cell_type": "code",
   "execution_count": 151,
   "id": "8a41d8da-9652-487b-a383-0911aaa0f79f",
   "metadata": {},
   "outputs": [
    {
     "data": {
      "text/plain": [
       "array([-37.53434517,  -1.40621076,  -1.40621076,  -0.95123322])"
      ]
     },
     "execution_count": 151,
     "metadata": {},
     "output_type": "execute_result"
    }
   ],
   "source": [
    "eigs.real"
   ]
  },
  {
   "cell_type": "code",
   "execution_count": 152,
   "id": "5a25292a-36ff-4a76-9ccd-d82706778958",
   "metadata": {},
   "outputs": [
    {
     "data": {
      "text/plain": [
       "array([-0.02380413,  0.89347256, -0.01194446,  0.44832742])"
      ]
     },
     "execution_count": 152,
     "metadata": {},
     "output_type": "execute_result"
    }
   ],
   "source": [
    "# Real part of the eigenvalues show which directions it is most aggressively stabilizing,\n",
    "# apperantly, indices with highest values\n",
    "eigvecs[:, 0].real"
   ]
  },
  {
   "cell_type": "code",
   "execution_count": 153,
   "id": "2d04dca6-7a81-4fa8-98c9-e448b9c4650d",
   "metadata": {},
   "outputs": [],
   "source": [
    "# Steve brunton mentions as expected building the model is the hard part."
   ]
  },
  {
   "cell_type": "code",
   "execution_count": 154,
   "id": "9d30c05d-6586-486c-88c7-93d0c4140e32",
   "metadata": {},
   "outputs": [
    {
     "data": {
      "image/png": "[encoded data removed]",
      "text/plain": [
       "<Figure size 640x480 with 1 Axes>"
      ]
     },
     "metadata": {},
     "output_type": "display_data"
    },
    {
     "data": {
      "image/png": "[encoded data removed]",
      "text/plain": [
       "<Figure size 640x480 with 1 Axes>"
      ]
     },
     "metadata": {},
     "output_type": "display_data"
    }
   ],
   "source": [
    "env = CartPoleEnv(initial_state_variance=0.00)\n",
    "env.reset()\n",
    "\n",
    "# Control vector\n",
    "u = np.zeros(1)\n",
    "cum_rew = 0.0\n",
    "\n",
    "def show_state(env, step, cum_rew, u):\n",
    "    plt.figure(3)\n",
    "    plt.clf()\n",
    "    plt.imshow(env.render(mode='rgb_array'))\n",
    "    plt.title(f\"Step: {step}, u: {u[0]:.2f}, cum rew: {cum_rew:.2f}\")\n",
    "    plt.axis('off')\n",
    "\n",
    "    display.clear_output(wait=True)\n",
    "    display.display(plt.gcf())\n",
    "\n",
    "done = False\n",
    "for step in range(100):\n",
    "    # u = -Kx\n",
    "    u[:] = -np.dot(K, env.state - env.goal_state)\n",
    "\n",
    "    # Run simulation one time-step\n",
    "    observation, reward, done, info = env.step(u)\n",
    "\n",
    "    show_state(env, step, cum_rew, u)\n",
    "    cum_rew += reward\n",
    "\n",
    "    if done:\n",
    "        break\n",
    "\n",
    "env.close()"
   ]
  },
  {
   "attachments": {},
   "cell_type": "markdown",
   "id": "113cb011-ff0f-4c13-8627-9d14e8295741",
   "metadata": {},
   "source": [
    "## Observability\n",
    "Estimating the full state of the system"
   ]
  },
  {
   "cell_type": "code",
   "execution_count": 171,
   "id": "f26ef066-a41a-4f3a-93ce-4e2462e03ffe",
   "metadata": {},
   "outputs": [
    {
     "data": {
      "text/plain": [
       "array([[ 1.  ,  0.  ,  0.  ,  0.  ],\n",
       "       [ 0.  ,  1.  ,  0.  ,  0.  ],\n",
       "       [ 0.  , -0.2 ,  2.  ,  0.  ],\n",
       "       [ 0.  ,  0.04, -0.4 ,  2.  ]])"
      ]
     },
     "execution_count": 171,
     "metadata": {},
     "output_type": "execute_result"
    }
   ],
   "source": [
    "# Measuring just the position\n",
    "C = np.array([1, 0, 0, 0])\n",
    "\n",
    "n_states = A.shape[0]\n",
    "observability_matrix = np.vstack([C @ np.linalg.matrix_power(A, i) for i in range(n_states)])\n",
    "observability_matrix"
   ]
  },
  {
   "cell_type": "code",
   "execution_count": 172,
   "id": "80e7c7ad-7f81-4401-836c-1df8a1e1dc4a",
   "metadata": {},
   "outputs": [
    {
     "data": {
      "text/plain": [
       "(4.0, 4)"
      ]
     },
     "execution_count": 172,
     "metadata": {},
     "output_type": "execute_result"
    }
   ],
   "source": [
    "np.linalg.det(observability_matrix), np.linalg.matrix_rank(observability_matrix)"
   ]
  },
  {
   "cell_type": "code",
   "execution_count": 173,
   "id": "3d792c72-6551-4cf9-b70c-d60f1f460172",
   "metadata": {},
   "outputs": [
    {
     "data": {
      "text/plain": [
       "array([[ 0.  ,  0.  ,  1.  ,  0.  ],\n",
       "       [ 0.  ,  0.  ,  0.  ,  1.  ],\n",
       "       [ 0.  , -0.1 ,  6.  ,  0.  ],\n",
       "       [ 0.  ,  0.02, -0.2 ,  6.  ]])"
      ]
     },
     "execution_count": 173,
     "metadata": {},
     "output_type": "execute_result"
    }
   ],
   "source": [
    "C = np.array([0, 0, 1, 0])\n",
    "observability_matrix = np.vstack([C @ np.linalg.matrix_power(A, i) for i in range(n_states)])\n",
    "observability_matrix"
   ]
  },
  {
   "cell_type": "code",
   "execution_count": 174,
   "id": "ee2b039d-de0e-47a7-a7d0-87cc1662d947",
   "metadata": {},
   "outputs": [
    {
     "data": {
      "text/plain": [
       "(0.0, 3)"
      ]
     },
     "execution_count": 174,
     "metadata": {},
     "output_type": "execute_result"
    }
   ],
   "source": [
    "# Now location of the cart is not observable in the state space.\n",
    "np.linalg.det(observability_matrix), np.linalg.matrix_rank(observability_matrix)"
   ]
  },
  {
   "cell_type": "code",
   "execution_count": 179,
   "id": "f8d16d24-1596-4241-b91b-49c998966307",
   "metadata": {},
   "outputs": [
    {
     "data": {
      "text/plain": [
       "((4, 4), (4,), (4, 4), (1, 1))"
      ]
     },
     "execution_count": 179,
     "metadata": {},
     "output_type": "execute_result"
    }
   ],
   "source": [
    "Vd = 0.1 * np.eye(4)\n",
    "Vn = np.array([[1]])\n",
    "\n",
    "# BF = np\n",
    "\n",
    "A.shape, C.shape, Vd.shape, Vn.shape"
   ]
  },
  {
   "cell_type": "code",
   "execution_count": null,
   "id": "752ffd11-4415-4e0c-9019-05f4dcf8c8ba",
   "metadata": {},
   "outputs": [],
   "source": []
  },
  {
   "cell_type": "code",
   "execution_count": null,
   "id": "0a30c5ec-0f85-420d-8f91-f25da5c7584a",
   "metadata": {},
   "outputs": [],
   "source": []
  },
  {
   "cell_type": "code",
   "execution_count": null,
   "id": "f10297fa-df14-4069-b17e-4e6f9dfafefb",
   "metadata": {},
   "outputs": [],
   "source": []
  }
 ],
 "metadata": {
  "kernelspec": {
   "display_name": "Python 3 (ipykernel)",
   "language": "python",
   "name": "python3"
  },
  "language_info": {
   "codemirror_mode": {
    "name": "ipython",
    "version": 3
   },
   "file_extension": ".py",
   "mimetype": "text/x-python",
   "name": "python",
   "nbconvert_exporter": "python",
   "pygments_lexer": "ipython3",
   "version": "3.9.0"
  }
 },
 "nbformat": 4,
 "nbformat_minor": 5
}
